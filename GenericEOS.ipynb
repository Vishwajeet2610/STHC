{
 "metadata": {
  "kernelspec": {
   "display_name": "Python 2",
   "language": "python",
   "name": "python2"
  },
  "language_info": {
   "codemirror_mode": {
    "name": "ipython",
    "version": 2
   },
   "file_extension": ".py",
   "mimetype": "text/x-python",
   "name": "python",
   "nbconvert_exporter": "python",
   "pygments_lexer": "ipython2",
   "version": "2.7.9"
  },
  "name": "",
  "signature": "sha256:e9b5c952c0fb03f8ee59dca450970933acecb16a2b2b6a8c9d8b50c41369dbac"
 },
 "nbformat": 3,
 "nbformat_minor": 0,
 "worksheets": [
  {
   "cells": [
    {
     "cell_type": "heading",
     "level": 1,
     "metadata": {},
     "source": [
      "Cubic EOS "
     ]
    },
    {
     "cell_type": "code",
     "collapsed": false,
     "input": [
      "from sympy import init_session\n",
      "init_session()"
     ],
     "language": "python",
     "metadata": {},
     "outputs": []
    },
    {
     "cell_type": "code",
     "collapsed": false,
     "input": [
      "P, v, R, T, OmegaA, OmegaB, OmegaC, OmegaD, a, b, c,  d, Tc, Pc, alpha = symbols('P, v, R, T, Omega_A, Omega_B, Omega_C, Omega_D, a, b, c, d, T_c, P_c, alpha')\n",
      "Z, Zc = symbols('Z, Z_c')"
     ],
     "language": "python",
     "metadata": {},
     "outputs": []
    },
    {
     "cell_type": "code",
     "collapsed": false,
     "input": [
      "RHS = R*T/(v-b) - a*alpha/(v**2+(d+c)*v-d*c)\n",
      "#RHSf = fraction(together(RHS)); nr = RHSf[0]; dr = RHSf[1]*P\n",
      "#expr = expand(dr) - expand(nr)\n",
      "#expr = collect(expr.subs(v, Z*R*T/P), Z); z3 = expr.coeff(Z, 3); expr = collect(expand(expr/z3),Z); expr\n"
     ],
     "language": "python",
     "metadata": {},
     "outputs": []
    },
    {
     "cell_type": "markdown",
     "metadata": {},
     "source": [
      "When the critical point is reached, the above expression must have three equal roots.  A cubic with roots $\\alpha, \\beta, \\gamma$ can be written as: $x^3-(\\alpha+\\beta+\\gamma)x^2+(\\alpha\\beta+\\beta\\gamma+\\alpha\\gamma)x-\\alpha\\beta\\gamma$. Hence for three equal roots, the cube root of the negative of the constant coefficient is a root and or the root the negative one third of the coefficient of the quadratic term:"
     ]
    },
    {
     "cell_type": "code",
     "collapsed": false,
     "input": [
      "sumabc = -expr.coeff(Z,2); Eq(3*Zc, sumabc)"
     ],
     "language": "python",
     "metadata": {},
     "outputs": [
      {
       "metadata": {},
       "output_type": "pyout",
       "prompt_number": 7,
       "text": [
        "3*Z_c == P*b/(R*T) - P*c/(R*T) - P*d/(R*T) + 1"
       ]
      }
     ],
     "prompt_number": 7
    },
    {
     "cell_type": "markdown",
     "metadata": {},
     "source": [
      "And product of the roots is cube of Zc:"
     ]
    },
    {
     "cell_type": "code",
     "collapsed": false,
     "input": [
      "prodabc = -expr.coeff(Z, 0); Eq(Zc**3, prodabc)"
     ],
     "language": "python",
     "metadata": {},
     "outputs": [
      {
       "metadata": {},
       "output_type": "pyout",
       "prompt_number": 8,
       "text": [
        "Z_c**3 == -P**3*b*c*d/(R**3*T**3) - P**2*c*d/(R**2*T**2) + P**2*a*alpha*b/(R**3*T**3)"
       ]
      }
     ],
     "prompt_number": 8
    },
    {
     "cell_type": "code",
     "collapsed": false,
     "input": [
      "pairsumabc = expr.coeff(Z,1); Eq(3*Zc**2, pairsumabc)"
     ],
     "language": "python",
     "metadata": {},
     "outputs": [
      {
       "metadata": {},
       "output_type": "pyout",
       "prompt_number": 9,
       "text": [
        "3*Z_c**2 == -P**2*b*c/(R**2*T**2) - P**2*b*d/(R**2*T**2) - P**2*c*d/(R**2*T**2) - P*c/(R*T) - P*d/(R*T) + P*a*alpha/(R**2*T**2)"
       ]
      }
     ],
     "prompt_number": 9
    },
    {
     "cell_type": "markdown",
     "metadata": {},
     "source": [
      "However, since we know that: "
     ]
    },
    {
     "cell_type": "code",
     "collapsed": false,
     "input": [
      "aa = OmegaA*(R*Tc)**2/Pc; Eq(a, aa)"
     ],
     "language": "python",
     "metadata": {},
     "outputs": [
      {
       "metadata": {},
       "output_type": "pyout",
       "prompt_number": 10,
       "text": [
        "a == Omega_A*R**2*T_c**2/P_c"
       ]
      }
     ],
     "prompt_number": 10
    },
    {
     "cell_type": "code",
     "collapsed": false,
     "input": [
      "bb = OmegaB*R*Tc/Pc; Eq(b, bb)"
     ],
     "language": "python",
     "metadata": {},
     "outputs": [
      {
       "metadata": {},
       "output_type": "pyout",
       "prompt_number": 11,
       "text": [
        "b == Omega_B*R*T_c/P_c"
       ]
      }
     ],
     "prompt_number": 11
    },
    {
     "cell_type": "code",
     "collapsed": false,
     "input": [
      "cc = OmegaC*R*Tc/Pc; Eq(c, cc)"
     ],
     "language": "python",
     "metadata": {},
     "outputs": [
      {
       "metadata": {},
       "output_type": "pyout",
       "prompt_number": 12,
       "text": [
        "c == Omega_C*R*T_c/P_c"
       ]
      }
     ],
     "prompt_number": 12
    },
    {
     "cell_type": "code",
     "collapsed": false,
     "input": [
      "dd = OmegaD*R*Tc/Pc; Eq(d, dd)"
     ],
     "language": "python",
     "metadata": {},
     "outputs": [
      {
       "metadata": {},
       "output_type": "pyout",
       "prompt_number": 13,
       "text": [
        "d == Omega_D*R*T_c/P_c"
       ]
      }
     ],
     "prompt_number": 13
    },
    {
     "cell_type": "code",
     "collapsed": false,
     "input": [
      "sumabc = sumabc.subs(a, aa).subs(b, bb).subs(c, cc).subs(d, dd); sumabc"
     ],
     "language": "python",
     "metadata": {},
     "outputs": [
      {
       "metadata": {},
       "output_type": "pyout",
       "prompt_number": 14,
       "text": [
        "Omega_B*P*T_c/(P_c*T) - Omega_C*P*T_c/(P_c*T) - Omega_D*P*T_c/(P_c*T) + 1"
       ]
      }
     ],
     "prompt_number": 14
    },
    {
     "cell_type": "markdown",
     "metadata": {},
     "source": [
      "Hence at the critical point:"
     ]
    },
    {
     "cell_type": "code",
     "collapsed": false,
     "input": [
      "sumabc = sumabc.subs(T, Tc).subs(P, Pc).subs(alpha, 1); sumabc"
     ],
     "language": "python",
     "metadata": {},
     "outputs": [
      {
       "metadata": {},
       "output_type": "pyout",
       "prompt_number": 15,
       "text": [
        "Omega_B - Omega_C - Omega_D + 1"
       ]
      }
     ],
     "prompt_number": 15
    },
    {
     "cell_type": "code",
     "collapsed": false,
     "input": [
      "pairsumabc = pairsumabc.subs(a,aa).subs(b,bb).subs(c,cc).subs(d,dd).subs(T,Tc).subs(P, Pc).subs(alpha, 1); pairsumabc"
     ],
     "language": "python",
     "metadata": {},
     "outputs": [
      {
       "metadata": {},
       "output_type": "pyout",
       "prompt_number": 16,
       "text": [
        "Omega_A - Omega_B*Omega_C - Omega_B*Omega_D - Omega_C*Omega_D - Omega_C - Omega_D"
       ]
      }
     ],
     "prompt_number": 16
    },
    {
     "cell_type": "code",
     "collapsed": false,
     "input": [
      "prodabc = prodabc.subs(a,aa).subs(b,bb).subs(c,cc).subs(d,dd).subs(T,Tc).subs(P, Pc).subs(alpha, 1); prodabc"
     ],
     "language": "python",
     "metadata": {},
     "outputs": [
      {
       "metadata": {},
       "output_type": "pyout",
       "prompt_number": 17,
       "text": [
        "Omega_A*Omega_B - Omega_B*Omega_C*Omega_D - Omega_C*Omega_D"
       ]
      }
     ],
     "prompt_number": 17
    },
    {
     "cell_type": "markdown",
     "metadata": {},
     "source": [
      "Hence, "
     ]
    },
    {
     "cell_type": "code",
     "collapsed": false,
     "input": [
      "Eq(Zc*3, sumabc)"
     ],
     "language": "python",
     "metadata": {},
     "outputs": [
      {
       "metadata": {},
       "output_type": "pyout",
       "prompt_number": 18,
       "text": [
        "3*Z_c == Omega_B - Omega_C - Omega_D + 1"
       ]
      }
     ],
     "prompt_number": 18
    },
    {
     "cell_type": "markdown",
     "metadata": {},
     "source": [
      "Hence:"
     ]
    },
    {
     "cell_type": "code",
     "collapsed": false,
     "input": [
      "Eq(3*Zc**2, pairsumabc)"
     ],
     "language": "python",
     "metadata": {},
     "outputs": [
      {
       "metadata": {},
       "output_type": "pyout",
       "prompt_number": 19,
       "text": [
        "3*Z_c**2 == Omega_A - Omega_B*Omega_C - Omega_B*Omega_D - Omega_C*Omega_D - Omega_C - Omega_D"
       ]
      }
     ],
     "prompt_number": 19
    },
    {
     "cell_type": "code",
     "collapsed": false,
     "input": [
      "Eq(Zc**3, prodabc)"
     ],
     "language": "python",
     "metadata": {},
     "outputs": [
      {
       "metadata": {},
       "output_type": "pyout",
       "prompt_number": 20,
       "text": [
        "Z_c**3 == Omega_A*Omega_B - Omega_B*Omega_C*Omega_D - Omega_C*Omega_D"
       ]
      }
     ],
     "prompt_number": 20
    },
    {
     "cell_type": "markdown",
     "metadata": {},
     "source": [
      "Hence,"
     ]
    },
    {
     "cell_type": "code",
     "collapsed": false,
     "input": [
      "omgC = sumabc-3*Zc+OmegaC\n",
      "Eq(OmegaC, omgC)"
     ],
     "language": "python",
     "metadata": {},
     "outputs": [
      {
       "metadata": {},
       "output_type": "pyout",
       "prompt_number": 21,
       "text": [
        "Omega_C == Omega_B - Omega_D - 3*Z_c + 1"
       ]
      }
     ],
     "prompt_number": 21
    },
    {
     "cell_type": "markdown",
     "metadata": {},
     "source": [
      "And"
     ]
    },
    {
     "cell_type": "code",
     "collapsed": false,
     "input": [
      "omgA = 3*Zc**2-pairsumabc+OmegaA\n",
      "Eq(OmegaA, omgA)"
     ],
     "language": "python",
     "metadata": {},
     "outputs": [
      {
       "metadata": {},
       "output_type": "pyout",
       "prompt_number": 22,
       "text": [
        "Omega_A == Omega_B*Omega_C + Omega_B*Omega_D + Omega_C*Omega_D + Omega_C + Omega_D + 3*Z_c**2"
       ]
      }
     ],
     "prompt_number": 22
    },
    {
     "cell_type": "markdown",
     "metadata": {},
     "source": [
      "Hence, from the last equation we have the following cubic in $\\Omega_B$."
     ]
    },
    {
     "cell_type": "code",
     "collapsed": false,
     "input": [
      "cubD = prodabc - Zc**3\n",
      "cubD = expand(cubD.subs(OmegaA, omgA).subs(OmegaC, omgC))\n",
      "cubD = collect(cubD, OmegaD)\n",
      "cubD"
     ],
     "language": "python",
     "metadata": {},
     "outputs": [
      {
       "metadata": {},
       "output_type": "pyout",
       "prompt_number": 23,
       "text": [
        "Omega_B**3 - 3*Omega_B**2*Z_c + 2*Omega_B**2 + 3*Omega_B*Z_c**2 - 3*Omega_B*Z_c + Omega_B + Omega_D**2 + Omega_D*(-Omega_B + 3*Z_c - 1) - Z_c**3"
       ]
      }
     ],
     "prompt_number": 23
    },
    {
     "cell_type": "code",
     "collapsed": true,
     "input": [],
     "language": "python",
     "metadata": {},
     "outputs": [],
     "prompt_number": null
    },
    {
     "cell_type": "code",
     "collapsed": true,
     "input": [],
     "language": "python",
     "metadata": {},
     "outputs": [],
     "prompt_number": null
    }
   ],
   "metadata": {}
  }
 ]
}