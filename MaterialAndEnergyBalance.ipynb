{
 "cells": [
  {
   "cell_type": "markdown",
   "metadata": {},
   "source": [
    "# Material and Energy Balance"
   ]
  },
  {
   "cell_type": "code",
   "execution_count": 1,
   "metadata": {
    "collapsed": false
   },
   "outputs": [
    {
     "ename": "ImportError",
     "evalue": "C extension: shares_memory not built. If you want to import pandas from the source directory, you may need to run 'python setup.py build_ext --inplace' to build the C extensions first.",
     "output_type": "error",
     "traceback": [
      "\u001b[0;31m---------------------------------------------------------------------------\u001b[0m",
      "\u001b[0;31mImportError\u001b[0m                               Traceback (most recent call last)",
      "\u001b[0;32m<ipython-input-1-19a3e60670fc>\u001b[0m in \u001b[0;36m<module>\u001b[0;34m()\u001b[0m\n\u001b[0;32m----> 1\u001b[0;31m \u001b[1;32mimport\u001b[0m \u001b[0mpandas\u001b[0m \u001b[1;32mas\u001b[0m \u001b[0mpd\u001b[0m\u001b[1;33m\u001b[0m\u001b[0m\n\u001b[0m\u001b[1;32m      2\u001b[0m \u001b[1;32mimport\u001b[0m \u001b[0mscipy\u001b[0m\u001b[1;33m\u001b[0m\u001b[0m\n\u001b[1;32m      3\u001b[0m \u001b[1;32mfrom\u001b[0m \u001b[0meosHSG\u001b[0m \u001b[1;32mimport\u001b[0m \u001b[0mgetCompound\u001b[0m\u001b[1;33m\u001b[0m\u001b[0m\n",
      "\u001b[0;32mC:\\Python27\\lib\\site-packages\\pandas\\__init__.py\u001b[0m in \u001b[0;36m<module>\u001b[0;34m()\u001b[0m\n\u001b[1;32m     11\u001b[0m                       \u001b[1;34m\"pandas from the source directory, you may need to run \"\u001b[0m\u001b[1;33m\u001b[0m\u001b[0m\n\u001b[1;32m     12\u001b[0m                       \u001b[1;34m\"'python setup.py build_ext --inplace' to build the C \"\u001b[0m\u001b[1;33m\u001b[0m\u001b[0m\n\u001b[0;32m---> 13\u001b[0;31m                       \"extensions first.\".format(module))\n\u001b[0m\u001b[1;32m     14\u001b[0m \u001b[1;33m\u001b[0m\u001b[0m\n\u001b[1;32m     15\u001b[0m \u001b[1;32mfrom\u001b[0m \u001b[0mdatetime\u001b[0m \u001b[1;32mimport\u001b[0m \u001b[0mdatetime\u001b[0m\u001b[1;33m\u001b[0m\u001b[0m\n",
      "\u001b[0;31mImportError\u001b[0m: C extension: shares_memory not built. If you want to import pandas from the source directory, you may need to run 'python setup.py build_ext --inplace' to build the C extensions first."
     ]
    }
   ],
   "source": [
    "import pandas as pd\n",
    "import scipy\n",
    "from eosHSG import getCompound"
   ]
  },
  {
   "cell_type": "code",
   "execution_count": 3,
   "metadata": {
    "collapsed": false
   },
   "outputs": [
    {
     "name": "stdout",
     "output_type": "stream",
     "text": [
      "-44.6389660232\n"
     ]
    }
   ],
   "source": [
    "if True:\n",
    "    methane = getCompound(\"Methane\",\"srk\")\n",
    "    T = 300 #K\n",
    "    P = 1e6 #Pa\n",
    "    Z = 1 \n",
    "    print methane.G(T, P, Z)/1e6  #Hooray!\n"
   ]
  },
  {
   "cell_type": "markdown",
   "metadata": {},
   "source": [
    "## Lets make as simple Pandas Dataframe"
   ]
  },
  {
   "cell_type": "code",
   "execution_count": 4,
   "metadata": {
    "collapsed": false
   },
   "outputs": [
    {
     "data": {
      "text/html": [
       "<div>\n",
       "<table border=\"1\" class=\"dataframe\">\n",
       "  <thead>\n",
       "    <tr style=\"text-align: right;\">\n",
       "      <th></th>\n",
       "      <th>Cities</th>\n",
       "      <th>IsEvil</th>\n",
       "      <th>Population</th>\n",
       "      <th>Ruler</th>\n",
       "    </tr>\n",
       "  </thead>\n",
       "  <tbody>\n",
       "    <tr>\n",
       "      <th>Gnd</th>\n",
       "      <td>Gondor</td>\n",
       "      <td>False</td>\n",
       "      <td>20000</td>\n",
       "      <td>Denethor</td>\n",
       "    </tr>\n",
       "    <tr>\n",
       "      <th>Umb</th>\n",
       "      <td>Umbar</td>\n",
       "      <td>True</td>\n",
       "      <td>10000</td>\n",
       "      <td>Corsair</td>\n",
       "    </tr>\n",
       "    <tr>\n",
       "      <th>Num</th>\n",
       "      <td>Numenor</td>\n",
       "      <td>True</td>\n",
       "      <td>100000</td>\n",
       "      <td>Ar-Pharazon</td>\n",
       "    </tr>\n",
       "    <tr>\n",
       "      <th>Mor</th>\n",
       "      <td>Mordor</td>\n",
       "      <td>True</td>\n",
       "      <td>500000</td>\n",
       "      <td>Sauron</td>\n",
       "    </tr>\n",
       "  </tbody>\n",
       "</table>\n",
       "</div>"
      ],
      "text/plain": [
       "      Cities IsEvil  Population        Ruler\n",
       "Gnd   Gondor  False       20000     Denethor\n",
       "Umb    Umbar   True       10000      Corsair\n",
       "Num  Numenor   True      100000  Ar-Pharazon\n",
       "Mor   Mordor   True      500000       Sauron"
      ]
     },
     "execution_count": 4,
     "metadata": {},
     "output_type": "execute_result"
    }
   ],
   "source": [
    "df_simple = pd.DataFrame({\"Cities\":[\"Gondor\",\"Umbar\",\"Numenor\",\"Mordor\"],\n",
    "                          \"Population\":[20000, 10000, 100000, 500000],\n",
    "                          \"IsEvil\":[False, True, True, True],\n",
    "                          \"Ruler\":[\"Denethor\",\"Corsair\",\"Ar-Pharazon\",\"Sauron\"]},\n",
    "                        index = [\"Gnd\",\"Umb\",\"Num\",\"Mor\"])\n",
    "df_simple"
   ]
  },
  {
   "cell_type": "code",
   "execution_count": 5,
   "metadata": {
    "collapsed": false
   },
   "outputs": [
    {
     "data": {
      "text/plain": [
       "Cities          Gondor\n",
       "IsEvil           False\n",
       "Population       20000\n",
       "Ruler         Denethor\n",
       "Name: Gnd, dtype: object"
      ]
     },
     "execution_count": 5,
     "metadata": {},
     "output_type": "execute_result"
    }
   ],
   "source": [
    "#A pandas dataframe is a cross between a numpy array and a python dictionary.\n",
    "df_simple.loc[\"Gnd\"]  #like a dictionary"
   ]
  },
  {
   "cell_type": "code",
   "execution_count": 6,
   "metadata": {
    "collapsed": false
   },
   "outputs": [
    {
     "data": {
      "text/plain": [
       "'Gondor'"
      ]
     },
     "execution_count": 6,
     "metadata": {},
     "output_type": "execute_result"
    }
   ],
   "source": [
    "df_simple.loc[\"Gnd\"][\"Cities\"] #like a dictionary"
   ]
  },
  {
   "cell_type": "code",
   "execution_count": 7,
   "metadata": {
    "collapsed": false
   },
   "outputs": [
    {
     "data": {
      "text/plain": [
       "Gnd        GondorDenethor\n",
       "Umb          UmbarCorsair\n",
       "Num    NumenorAr-Pharazon\n",
       "Mor          MordorSauron\n",
       "dtype: object"
      ]
     },
     "execution_count": 7,
     "metadata": {},
     "output_type": "execute_result"
    }
   ],
   "source": [
    "df_simple[\"Cities\"] + df_simple[\"Ruler\"]  #like an array"
   ]
  },
  {
   "cell_type": "markdown",
   "metadata": {},
   "source": [
    "## Making a Process Stream"
   ]
  },
  {
   "cell_type": "code",
   "execution_count": 8,
   "metadata": {
    "collapsed": false
   },
   "outputs": [],
   "source": [
    "#Lets use 5 compounds: Nitrogen, Oxygen, Water, Carbon-Dioxide and Methane\n",
    "typeeos = 'pr'\n",
    "methane = getCompound(\"Methane\", typeeos)\n",
    "nitrogen = getCompound(\"Nitrogen\", typeeos)\n",
    "oxygen = getCompound(\"Oxygen\", typeeos)\n",
    "carbondioxide = getCompound(\"Carbon dioxide\",typeeos)\n",
    "water = getCompound(\"Water\",typeeos)\n",
    "dict_compounds = {\"CH4\":methane,\n",
    "                 \"N2\":nitrogen,\n",
    "                 \"O2\":oxygen,\n",
    "                 \"CO2\":carbondioxide,\n",
    "                 \"H2O\":water}  \n",
    "#dict_compounds gives us access to all the properties of each compound"
   ]
  },
  {
   "cell_type": "markdown",
   "metadata": {},
   "source": [
    "Ok.  What properties of each stream are useful to us?\n",
    "<ol>\n",
    "<li> Temperature K </li>\n",
    "<li> Pressure Pa </li>\n",
    "<li> State of the Steam (Liquid or Vapour) (we won't be bothering with mixed streams just yet) </li>\n",
    "<li> Molar Flow Rates of Each Component kmol/s</li>\n",
    "<li> Mol fractions of each component </li>\n",
    "<li> Total Molar flow rate kmol/s </li>\n",
    "<li> Total Mass Flow rate kg/s </li>\n",
    "<li> Total Enthalpy in J/s </li>\n",
    "<li> Total Entropy in J/Ks </li>\n",
    "</ol>\n",
    "<p> We will use a dataframe for this and you will see how similar this is to Excel.  Lets make the index."
   ]
  },
  {
   "cell_type": "code",
   "execution_count": 9,
   "metadata": {
    "collapsed": false
   },
   "outputs": [
    {
     "data": {
      "text/html": [
       "<div>\n",
       "<table border=\"1\" class=\"dataframe\">\n",
       "  <thead>\n",
       "    <tr style=\"text-align: right;\">\n",
       "      <th></th>\n",
       "      <th>Air</th>\n",
       "      <th>Fuel</th>\n",
       "    </tr>\n",
       "  </thead>\n",
       "  <tbody>\n",
       "    <tr>\n",
       "      <th>T</th>\n",
       "      <td>NaN</td>\n",
       "      <td>NaN</td>\n",
       "    </tr>\n",
       "    <tr>\n",
       "      <th>P</th>\n",
       "      <td>NaN</td>\n",
       "      <td>NaN</td>\n",
       "    </tr>\n",
       "    <tr>\n",
       "      <th>isLiq</th>\n",
       "      <td>NaN</td>\n",
       "      <td>NaN</td>\n",
       "    </tr>\n",
       "    <tr>\n",
       "      <th>MolarFlow_N2</th>\n",
       "      <td>NaN</td>\n",
       "      <td>NaN</td>\n",
       "    </tr>\n",
       "    <tr>\n",
       "      <th>MolarFlow_CO2</th>\n",
       "      <td>NaN</td>\n",
       "      <td>NaN</td>\n",
       "    </tr>\n",
       "    <tr>\n",
       "      <th>MolarFlow_CH4</th>\n",
       "      <td>NaN</td>\n",
       "      <td>NaN</td>\n",
       "    </tr>\n",
       "    <tr>\n",
       "      <th>MolarFlow_O2</th>\n",
       "      <td>NaN</td>\n",
       "      <td>NaN</td>\n",
       "    </tr>\n",
       "    <tr>\n",
       "      <th>MolarFlow_H2O</th>\n",
       "      <td>NaN</td>\n",
       "      <td>NaN</td>\n",
       "    </tr>\n",
       "    <tr>\n",
       "      <th>MolFr_N2</th>\n",
       "      <td>NaN</td>\n",
       "      <td>NaN</td>\n",
       "    </tr>\n",
       "    <tr>\n",
       "      <th>MolFr_CO2</th>\n",
       "      <td>NaN</td>\n",
       "      <td>NaN</td>\n",
       "    </tr>\n",
       "    <tr>\n",
       "      <th>MolFr_CH4</th>\n",
       "      <td>NaN</td>\n",
       "      <td>NaN</td>\n",
       "    </tr>\n",
       "    <tr>\n",
       "      <th>MolFr_O2</th>\n",
       "      <td>NaN</td>\n",
       "      <td>NaN</td>\n",
       "    </tr>\n",
       "    <tr>\n",
       "      <th>MolFr_H2O</th>\n",
       "      <td>NaN</td>\n",
       "      <td>NaN</td>\n",
       "    </tr>\n",
       "    <tr>\n",
       "      <th>TotMolFlow</th>\n",
       "      <td>NaN</td>\n",
       "      <td>NaN</td>\n",
       "    </tr>\n",
       "    <tr>\n",
       "      <th>TotMassFlow</th>\n",
       "      <td>NaN</td>\n",
       "      <td>NaN</td>\n",
       "    </tr>\n",
       "    <tr>\n",
       "      <th>Enthalpy</th>\n",
       "      <td>NaN</td>\n",
       "      <td>NaN</td>\n",
       "    </tr>\n",
       "    <tr>\n",
       "      <th>Entropy</th>\n",
       "      <td>NaN</td>\n",
       "      <td>NaN</td>\n",
       "    </tr>\n",
       "    <tr>\n",
       "      <th>Ncomps</th>\n",
       "      <td>5</td>\n",
       "      <td>5</td>\n",
       "    </tr>\n",
       "  </tbody>\n",
       "</table>\n",
       "</div>"
      ],
      "text/plain": [
       "               Air Fuel\n",
       "T              NaN  NaN\n",
       "P              NaN  NaN\n",
       "isLiq          NaN  NaN\n",
       "MolarFlow_N2   NaN  NaN\n",
       "MolarFlow_CO2  NaN  NaN\n",
       "MolarFlow_CH4  NaN  NaN\n",
       "MolarFlow_O2   NaN  NaN\n",
       "MolarFlow_H2O  NaN  NaN\n",
       "MolFr_N2       NaN  NaN\n",
       "MolFr_CO2      NaN  NaN\n",
       "MolFr_CH4      NaN  NaN\n",
       "MolFr_O2       NaN  NaN\n",
       "MolFr_H2O      NaN  NaN\n",
       "TotMolFlow     NaN  NaN\n",
       "TotMassFlow    NaN  NaN\n",
       "Enthalpy       NaN  NaN\n",
       "Entropy        NaN  NaN\n",
       "Ncomps           5    5"
      ]
     },
     "execution_count": 9,
     "metadata": {},
     "output_type": "execute_result"
    }
   ],
   "source": [
    "index =  [\"T\", \"P\", \"isLiq\"]\n",
    "index += [\"MolarFlow_%s\"%name for name in dict_compounds]\n",
    "index += [\"MolFr_%s\"%name for name in dict_compounds]\n",
    "index += [\"TotMolFlow\",\"TotMassFlow\",\"Enthalpy\",\"Entropy\"]\n",
    "index += [\"Ncomps\"]\n",
    "\n",
    "columns = [\"Air\",\"Fuel\"]\n",
    "df = pd.DataFrame(index=index, columns=columns)\n",
    "for col in df.columns:\n",
    "    df.loc[\"Ncomps\"][col] = len(dict_compounds)\n",
    "df"
   ]
  },
  {
   "cell_type": "markdown",
   "metadata": {},
   "source": [
    "So its empty.  Duh!  We have to fill it.  "
   ]
  },
  {
   "cell_type": "code",
   "execution_count": 10,
   "metadata": {
    "collapsed": false
   },
   "outputs": [],
   "source": [
    "df[\"Fuel\"][\"T\"] = 300 #K\n",
    "df[\"Fuel\"][\"P\"] = 1.013e5 #Pa\n",
    "df[\"Fuel\"][\"MolarFlow_CH4\"] = 1.0 #kmol/s\n",
    "df[\"Fuel\"][\"MolarFlow_N2\"] = 0.0\n",
    "df[\"Fuel\"][\"MolarFlow_O2\"] = 0.0\n",
    "df[\"Fuel\"][\"MolarFlow_CO2\"] = 0.0\n",
    "df[\"Fuel\"][\"MolarFlow_H2O\"] = 0.0\n",
    "df[\"Fuel\"][\"isLiq\"] = False\n",
    "\n",
    "df[\"Air\"][\"T\"] = 300 #K\n",
    "df[\"Air\"][\"P\"] = 1.013e5 #Pa\n",
    "df[\"Air\"][\"MolarFlow_CH4\"] = 0.0 #kmol/s\n",
    "df[\"Air\"][\"MolarFlow_N2\"] = 3.0/0.21*0.79\n",
    "df[\"Air\"][\"MolarFlow_O2\"] = 3.0\n",
    "df[\"Air\"][\"MolarFlow_CO2\"] = 0.0\n",
    "df[\"Air\"][\"MolarFlow_H2O\"] = 0.0\n",
    "df[\"Air\"][\"isLiq\"] = False\n",
    "\n",
    "#So what about mol fraction?  We have to write a function.\n",
    "def get_molfraction(stream):\n",
    "    ncomps = stream.loc[\"Ncomps\"]\n",
    "    molflow = stream.iloc[3:3+ncomps]\n",
    "    totmolflow = molflow.sum()\n",
    "    stream.loc[\"TotMolFlow\"] = totmolflow \n",
    "    stream.iloc[3+ncomps:3+2*ncomps] = (stream.iloc[3:3+ncomps]/stream.iloc[3:3+ncomps].sum()).values\n",
    "    return stream\n"
   ]
  },
  {
   "cell_type": "code",
   "execution_count": 11,
   "metadata": {
    "collapsed": false
   },
   "outputs": [
    {
     "data": {
      "text/html": [
       "<div>\n",
       "<table border=\"1\" class=\"dataframe\">\n",
       "  <thead>\n",
       "    <tr style=\"text-align: right;\">\n",
       "      <th></th>\n",
       "      <th>Air</th>\n",
       "      <th>Fuel</th>\n",
       "    </tr>\n",
       "  </thead>\n",
       "  <tbody>\n",
       "    <tr>\n",
       "      <th>T</th>\n",
       "      <td>300</td>\n",
       "      <td>300</td>\n",
       "    </tr>\n",
       "    <tr>\n",
       "      <th>P</th>\n",
       "      <td>101300</td>\n",
       "      <td>101300</td>\n",
       "    </tr>\n",
       "    <tr>\n",
       "      <th>isLiq</th>\n",
       "      <td>False</td>\n",
       "      <td>False</td>\n",
       "    </tr>\n",
       "    <tr>\n",
       "      <th>MolarFlow_N2</th>\n",
       "      <td>11.28571</td>\n",
       "      <td>0</td>\n",
       "    </tr>\n",
       "    <tr>\n",
       "      <th>MolarFlow_CO2</th>\n",
       "      <td>0</td>\n",
       "      <td>0</td>\n",
       "    </tr>\n",
       "    <tr>\n",
       "      <th>MolarFlow_CH4</th>\n",
       "      <td>0</td>\n",
       "      <td>1</td>\n",
       "    </tr>\n",
       "    <tr>\n",
       "      <th>MolarFlow_O2</th>\n",
       "      <td>3</td>\n",
       "      <td>0</td>\n",
       "    </tr>\n",
       "    <tr>\n",
       "      <th>MolarFlow_H2O</th>\n",
       "      <td>0</td>\n",
       "      <td>0</td>\n",
       "    </tr>\n",
       "    <tr>\n",
       "      <th>MolFr_N2</th>\n",
       "      <td>0.79</td>\n",
       "      <td>0</td>\n",
       "    </tr>\n",
       "    <tr>\n",
       "      <th>MolFr_CO2</th>\n",
       "      <td>0</td>\n",
       "      <td>0</td>\n",
       "    </tr>\n",
       "    <tr>\n",
       "      <th>MolFr_CH4</th>\n",
       "      <td>0</td>\n",
       "      <td>1</td>\n",
       "    </tr>\n",
       "    <tr>\n",
       "      <th>MolFr_O2</th>\n",
       "      <td>0.21</td>\n",
       "      <td>0</td>\n",
       "    </tr>\n",
       "    <tr>\n",
       "      <th>MolFr_H2O</th>\n",
       "      <td>0</td>\n",
       "      <td>0</td>\n",
       "    </tr>\n",
       "    <tr>\n",
       "      <th>TotMolFlow</th>\n",
       "      <td>14.28571</td>\n",
       "      <td>1</td>\n",
       "    </tr>\n",
       "    <tr>\n",
       "      <th>TotMassFlow</th>\n",
       "      <td>NaN</td>\n",
       "      <td>NaN</td>\n",
       "    </tr>\n",
       "    <tr>\n",
       "      <th>Enthalpy</th>\n",
       "      <td>NaN</td>\n",
       "      <td>NaN</td>\n",
       "    </tr>\n",
       "    <tr>\n",
       "      <th>Entropy</th>\n",
       "      <td>NaN</td>\n",
       "      <td>NaN</td>\n",
       "    </tr>\n",
       "    <tr>\n",
       "      <th>Ncomps</th>\n",
       "      <td>5</td>\n",
       "      <td>5</td>\n",
       "    </tr>\n",
       "  </tbody>\n",
       "</table>\n",
       "</div>"
      ],
      "text/plain": [
       "                    Air    Fuel\n",
       "T                   300     300\n",
       "P                101300  101300\n",
       "isLiq             False   False\n",
       "MolarFlow_N2   11.28571       0\n",
       "MolarFlow_CO2         0       0\n",
       "MolarFlow_CH4         0       1\n",
       "MolarFlow_O2          3       0\n",
       "MolarFlow_H2O         0       0\n",
       "MolFr_N2           0.79       0\n",
       "MolFr_CO2             0       0\n",
       "MolFr_CH4             0       1\n",
       "MolFr_O2           0.21       0\n",
       "MolFr_H2O             0       0\n",
       "TotMolFlow     14.28571       1\n",
       "TotMassFlow         NaN     NaN\n",
       "Enthalpy            NaN     NaN\n",
       "Entropy             NaN     NaN\n",
       "Ncomps                5       5"
      ]
     },
     "execution_count": 11,
     "metadata": {},
     "output_type": "execute_result"
    }
   ],
   "source": [
    "df = df.apply(get_molfraction)\n",
    "df"
   ]
  },
  {
   "cell_type": "code",
   "execution_count": 12,
   "metadata": {
    "collapsed": false
   },
   "outputs": [
    {
     "data": {
      "text/plain": [
       "Index([u'MolarFlow_N2', u'MolarFlow_CO2', u'MolarFlow_CH4', u'MolarFlow_O2',\n",
       "       u'MolarFlow_H2O'],\n",
       "      dtype='object')"
      ]
     },
     "execution_count": 12,
     "metadata": {},
     "output_type": "execute_result"
    }
   ],
   "source": [
    "names=df.index[3:8]\n",
    "names"
   ]
  },
  {
   "cell_type": "code",
   "execution_count": 13,
   "metadata": {
    "collapsed": false
   },
   "outputs": [
    {
     "data": {
      "text/plain": [
       "'MolarFlow_N2'"
      ]
     },
     "execution_count": 13,
     "metadata": {},
     "output_type": "execute_result"
    }
   ],
   "source": [
    "names[0]\n"
   ]
  },
  {
   "cell_type": "code",
   "execution_count": 14,
   "metadata": {
    "collapsed": false
   },
   "outputs": [
    {
     "data": {
      "text/plain": [
       "['MolarFlow', 'N2']"
      ]
     },
     "execution_count": 14,
     "metadata": {},
     "output_type": "execute_result"
    }
   ],
   "source": [
    "names[0].split(\"_\")"
   ]
  },
  {
   "cell_type": "code",
   "execution_count": 15,
   "metadata": {
    "collapsed": false
   },
   "outputs": [
    {
     "data": {
      "text/plain": [
       "'N2'"
      ]
     },
     "execution_count": 15,
     "metadata": {},
     "output_type": "execute_result"
    }
   ],
   "source": [
    "names[0].split(\"_\")[1]"
   ]
  },
  {
   "cell_type": "code",
   "execution_count": 16,
   "metadata": {
    "collapsed": false
   },
   "outputs": [
    {
     "data": {
      "text/plain": [
       "['N2', 'CO2', 'CH4', 'O2', 'H2O']"
      ]
     },
     "execution_count": 16,
     "metadata": {},
     "output_type": "execute_result"
    }
   ],
   "source": [
    "Names=[names[n].split(\"_\")[1] for n in range(5)]\n",
    "Names"
   ]
  },
  {
   "cell_type": "code",
   "execution_count": 17,
   "metadata": {
    "collapsed": false
   },
   "outputs": [
    {
     "data": {
      "text/plain": [
       "28.013999999999999"
      ]
     },
     "execution_count": 17,
     "metadata": {},
     "output_type": "execute_result"
    }
   ],
   "source": [
    "a=dict_compounds[Names[0]].Molecule.MW\n",
    "a"
   ]
  },
  {
   "cell_type": "code",
   "execution_count": 18,
   "metadata": {
    "collapsed": false
   },
   "outputs": [
    {
     "data": {
      "text/plain": [
       "[28.013999999999999,\n",
       " 44.009999999999998,\n",
       " 16.042999999999999,\n",
       " 31.998999999999999,\n",
       " 18.015000000000001]"
      ]
     },
     "execution_count": 18,
     "metadata": {},
     "output_type": "execute_result"
    }
   ],
   "source": [
    "MolWt=[dict_compounds[Names[n]].Molecule.MW for n in range(5)]\n",
    "MolWt"
   ]
  },
  {
   "cell_type": "code",
   "execution_count": 19,
   "metadata": {
    "collapsed": false
   },
   "outputs": [
    {
     "data": {
      "text/plain": [
       "[316.15800000000002, 0.0, 0.0, 95.997, 0.0]"
      ]
     },
     "execution_count": 19,
     "metadata": {},
     "output_type": "execute_result"
    }
   ],
   "source": [
    "ncomps = df[\"Air\"].loc[\"Ncomps\"]\n",
    "Massflow=[df[\"Air\"].iloc[3:3+ncomps][n]*MolWt[n] for n in range(ncomps)]\n",
    "Massflow\n"
   ]
  },
  {
   "cell_type": "code",
   "execution_count": 20,
   "metadata": {
    "collapsed": false
   },
   "outputs": [
    {
     "data": {
      "text/plain": [
       "412.15500000000003"
      ]
     },
     "execution_count": 20,
     "metadata": {},
     "output_type": "execute_result"
    }
   ],
   "source": [
    "TotMassFlow=sum(Massflow)\n",
    "TotMassFlow"
   ]
  },
  {
   "cell_type": "code",
   "execution_count": 21,
   "metadata": {
    "collapsed": true
   },
   "outputs": [],
   "source": [
    "df[\"Air\"].loc[\"TotMassFlow\"]= TotMassFlow"
   ]
  },
  {
   "cell_type": "code",
   "execution_count": 22,
   "metadata": {
    "collapsed": false
   },
   "outputs": [
    {
     "data": {
      "text/html": [
       "<div>\n",
       "<table border=\"1\" class=\"dataframe\">\n",
       "  <thead>\n",
       "    <tr style=\"text-align: right;\">\n",
       "      <th></th>\n",
       "      <th>Air</th>\n",
       "      <th>Fuel</th>\n",
       "    </tr>\n",
       "  </thead>\n",
       "  <tbody>\n",
       "    <tr>\n",
       "      <th>T</th>\n",
       "      <td>300</td>\n",
       "      <td>300</td>\n",
       "    </tr>\n",
       "    <tr>\n",
       "      <th>P</th>\n",
       "      <td>101300</td>\n",
       "      <td>101300</td>\n",
       "    </tr>\n",
       "    <tr>\n",
       "      <th>isLiq</th>\n",
       "      <td>False</td>\n",
       "      <td>False</td>\n",
       "    </tr>\n",
       "    <tr>\n",
       "      <th>MolarFlow_N2</th>\n",
       "      <td>11.28571</td>\n",
       "      <td>0</td>\n",
       "    </tr>\n",
       "    <tr>\n",
       "      <th>MolarFlow_CO2</th>\n",
       "      <td>0</td>\n",
       "      <td>0</td>\n",
       "    </tr>\n",
       "    <tr>\n",
       "      <th>MolarFlow_CH4</th>\n",
       "      <td>0</td>\n",
       "      <td>1</td>\n",
       "    </tr>\n",
       "    <tr>\n",
       "      <th>MolarFlow_O2</th>\n",
       "      <td>3</td>\n",
       "      <td>0</td>\n",
       "    </tr>\n",
       "    <tr>\n",
       "      <th>MolarFlow_H2O</th>\n",
       "      <td>0</td>\n",
       "      <td>0</td>\n",
       "    </tr>\n",
       "    <tr>\n",
       "      <th>MolFr_N2</th>\n",
       "      <td>0.79</td>\n",
       "      <td>0</td>\n",
       "    </tr>\n",
       "    <tr>\n",
       "      <th>MolFr_CO2</th>\n",
       "      <td>0</td>\n",
       "      <td>0</td>\n",
       "    </tr>\n",
       "    <tr>\n",
       "      <th>MolFr_CH4</th>\n",
       "      <td>0</td>\n",
       "      <td>1</td>\n",
       "    </tr>\n",
       "    <tr>\n",
       "      <th>MolFr_O2</th>\n",
       "      <td>0.21</td>\n",
       "      <td>0</td>\n",
       "    </tr>\n",
       "    <tr>\n",
       "      <th>MolFr_H2O</th>\n",
       "      <td>0</td>\n",
       "      <td>0</td>\n",
       "    </tr>\n",
       "    <tr>\n",
       "      <th>TotMolFlow</th>\n",
       "      <td>14.28571</td>\n",
       "      <td>1</td>\n",
       "    </tr>\n",
       "    <tr>\n",
       "      <th>TotMassFlow</th>\n",
       "      <td>412.155</td>\n",
       "      <td>NaN</td>\n",
       "    </tr>\n",
       "    <tr>\n",
       "      <th>Enthalpy</th>\n",
       "      <td>NaN</td>\n",
       "      <td>NaN</td>\n",
       "    </tr>\n",
       "    <tr>\n",
       "      <th>Entropy</th>\n",
       "      <td>NaN</td>\n",
       "      <td>NaN</td>\n",
       "    </tr>\n",
       "    <tr>\n",
       "      <th>Ncomps</th>\n",
       "      <td>5</td>\n",
       "      <td>5</td>\n",
       "    </tr>\n",
       "  </tbody>\n",
       "</table>\n",
       "</div>"
      ],
      "text/plain": [
       "                    Air    Fuel\n",
       "T                   300     300\n",
       "P                101300  101300\n",
       "isLiq             False   False\n",
       "MolarFlow_N2   11.28571       0\n",
       "MolarFlow_CO2         0       0\n",
       "MolarFlow_CH4         0       1\n",
       "MolarFlow_O2          3       0\n",
       "MolarFlow_H2O         0       0\n",
       "MolFr_N2           0.79       0\n",
       "MolFr_CO2             0       0\n",
       "MolFr_CH4             0       1\n",
       "MolFr_O2           0.21       0\n",
       "MolFr_H2O             0       0\n",
       "TotMolFlow     14.28571       1\n",
       "TotMassFlow     412.155     NaN\n",
       "Enthalpy            NaN     NaN\n",
       "Entropy             NaN     NaN\n",
       "Ncomps                5       5"
      ]
     },
     "execution_count": 22,
     "metadata": {},
     "output_type": "execute_result"
    }
   ],
   "source": [
    "df"
   ]
  },
  {
   "cell_type": "code",
   "execution_count": 23,
   "metadata": {
    "collapsed": true
   },
   "outputs": [],
   "source": [
    "def get_TotMassFlow(stream):\n",
    "    names=df.index[3:8]\n",
    "    Names=[names[n].split(\"_\")[1] for n in range(5)]\n",
    "    MolWt=[dict_compounds[Names[n]].Molecule.MW for n in range(5)]\n",
    "    ncomps = stream.loc[\"Ncomps\"]\n",
    "    Massflow=[stream.iloc[3:3+ncomps][n]*MolWt[n] for n in range(ncomps)]\n",
    "    TotMassFlow=sum(Massflow)\n",
    "    stream.loc[\"TotMassFlow\"]= TotMassFlow\n",
    "    return stream"
   ]
  },
  {
   "cell_type": "code",
   "execution_count": 24,
   "metadata": {
    "collapsed": false
   },
   "outputs": [
    {
     "data": {
      "text/html": [
       "<div>\n",
       "<table border=\"1\" class=\"dataframe\">\n",
       "  <thead>\n",
       "    <tr style=\"text-align: right;\">\n",
       "      <th></th>\n",
       "      <th>Air</th>\n",
       "      <th>Fuel</th>\n",
       "    </tr>\n",
       "  </thead>\n",
       "  <tbody>\n",
       "    <tr>\n",
       "      <th>T</th>\n",
       "      <td>300</td>\n",
       "      <td>300</td>\n",
       "    </tr>\n",
       "    <tr>\n",
       "      <th>P</th>\n",
       "      <td>101300</td>\n",
       "      <td>101300</td>\n",
       "    </tr>\n",
       "    <tr>\n",
       "      <th>isLiq</th>\n",
       "      <td>False</td>\n",
       "      <td>False</td>\n",
       "    </tr>\n",
       "    <tr>\n",
       "      <th>MolarFlow_N2</th>\n",
       "      <td>11.28571</td>\n",
       "      <td>0</td>\n",
       "    </tr>\n",
       "    <tr>\n",
       "      <th>MolarFlow_CO2</th>\n",
       "      <td>0</td>\n",
       "      <td>0</td>\n",
       "    </tr>\n",
       "    <tr>\n",
       "      <th>MolarFlow_CH4</th>\n",
       "      <td>0</td>\n",
       "      <td>1</td>\n",
       "    </tr>\n",
       "    <tr>\n",
       "      <th>MolarFlow_O2</th>\n",
       "      <td>3</td>\n",
       "      <td>0</td>\n",
       "    </tr>\n",
       "    <tr>\n",
       "      <th>MolarFlow_H2O</th>\n",
       "      <td>0</td>\n",
       "      <td>0</td>\n",
       "    </tr>\n",
       "    <tr>\n",
       "      <th>MolFr_N2</th>\n",
       "      <td>0.79</td>\n",
       "      <td>0</td>\n",
       "    </tr>\n",
       "    <tr>\n",
       "      <th>MolFr_CO2</th>\n",
       "      <td>0</td>\n",
       "      <td>0</td>\n",
       "    </tr>\n",
       "    <tr>\n",
       "      <th>MolFr_CH4</th>\n",
       "      <td>0</td>\n",
       "      <td>1</td>\n",
       "    </tr>\n",
       "    <tr>\n",
       "      <th>MolFr_O2</th>\n",
       "      <td>0.21</td>\n",
       "      <td>0</td>\n",
       "    </tr>\n",
       "    <tr>\n",
       "      <th>MolFr_H2O</th>\n",
       "      <td>0</td>\n",
       "      <td>0</td>\n",
       "    </tr>\n",
       "    <tr>\n",
       "      <th>TotMolFlow</th>\n",
       "      <td>14.28571</td>\n",
       "      <td>1</td>\n",
       "    </tr>\n",
       "    <tr>\n",
       "      <th>TotMassFlow</th>\n",
       "      <td>412.155</td>\n",
       "      <td>16.043</td>\n",
       "    </tr>\n",
       "    <tr>\n",
       "      <th>Enthalpy</th>\n",
       "      <td>NaN</td>\n",
       "      <td>NaN</td>\n",
       "    </tr>\n",
       "    <tr>\n",
       "      <th>Entropy</th>\n",
       "      <td>NaN</td>\n",
       "      <td>NaN</td>\n",
       "    </tr>\n",
       "    <tr>\n",
       "      <th>Ncomps</th>\n",
       "      <td>5</td>\n",
       "      <td>5</td>\n",
       "    </tr>\n",
       "  </tbody>\n",
       "</table>\n",
       "</div>"
      ],
      "text/plain": [
       "                    Air    Fuel\n",
       "T                   300     300\n",
       "P                101300  101300\n",
       "isLiq             False   False\n",
       "MolarFlow_N2   11.28571       0\n",
       "MolarFlow_CO2         0       0\n",
       "MolarFlow_CH4         0       1\n",
       "MolarFlow_O2          3       0\n",
       "MolarFlow_H2O         0       0\n",
       "MolFr_N2           0.79       0\n",
       "MolFr_CO2             0       0\n",
       "MolFr_CH4             0       1\n",
       "MolFr_O2           0.21       0\n",
       "MolFr_H2O             0       0\n",
       "TotMolFlow     14.28571       1\n",
       "TotMassFlow     412.155  16.043\n",
       "Enthalpy            NaN     NaN\n",
       "Entropy             NaN     NaN\n",
       "Ncomps                5       5"
      ]
     },
     "execution_count": 24,
     "metadata": {},
     "output_type": "execute_result"
    }
   ],
   "source": [
    "df = df.apply(get_TotMassFlow)\n",
    "df"
   ]
  },
  {
   "cell_type": "code",
   "execution_count": 25,
   "metadata": {
    "collapsed": false
   },
   "outputs": [],
   "source": [
    "ncomps = df[\"Air\"].loc[\"Ncomps\"]"
   ]
  },
  {
   "cell_type": "code",
   "execution_count": 28,
   "metadata": {
    "collapsed": false
   },
   "outputs": [
    {
     "data": {
      "text/plain": [
       "MolarFlow_N2     11.28571\n",
       "MolarFlow_CO2           0\n",
       "MolarFlow_CH4           0\n",
       "MolarFlow_O2            3\n",
       "MolarFlow_H2O           0\n",
       "Name: Air, dtype: object"
      ]
     },
     "execution_count": 28,
     "metadata": {},
     "output_type": "execute_result"
    }
   ],
   "source": [
    "molflows=df[\"Air\"].iloc[3:3+ncomps]\n",
    "molflows"
   ]
  },
  {
   "cell_type": "code",
   "execution_count": 31,
   "metadata": {
    "collapsed": false
   },
   "outputs": [
    {
     "data": {
      "text/plain": [
       "MolFr_N2     0.79\n",
       "MolFr_CO2       0\n",
       "MolFr_CH4       0\n",
       "MolFr_O2     0.21\n",
       "MolFr_H2O       0\n",
       "Name: Air, dtype: object"
      ]
     },
     "execution_count": 31,
     "metadata": {},
     "output_type": "execute_result"
    }
   ],
   "source": [
    "molfrac=df[\"Air\"].iloc[3+ncomps:3+2*ncomps]\n",
    "molfrac"
   ]
  },
  {
   "cell_type": "code",
   "execution_count": 32,
   "metadata": {
    "collapsed": false
   },
   "outputs": [
    {
     "data": {
      "text/plain": [
       "101300.0"
      ]
     },
     "execution_count": 32,
     "metadata": {},
     "output_type": "execute_result"
    }
   ],
   "source": [
    "P=df[\"Air\"].loc[\"P\"]\n",
    "P"
   ]
  },
  {
   "cell_type": "code",
   "execution_count": 33,
   "metadata": {
    "collapsed": false
   },
   "outputs": [
    {
     "data": {
      "text/plain": [
       "300"
      ]
     },
     "execution_count": 33,
     "metadata": {},
     "output_type": "execute_result"
    }
   ],
   "source": [
    "T=df[\"Air\"].loc[\"T\"]\n",
    "T"
   ]
  },
  {
   "cell_type": "code",
   "execution_count": 34,
   "metadata": {
    "collapsed": false
   },
   "outputs": [
    {
     "data": {
      "text/plain": [
       "MolFr_N2     80027\n",
       "MolFr_CO2        0\n",
       "MolFr_CH4        0\n",
       "MolFr_O2     21273\n",
       "MolFr_H2O        0\n",
       "Name: Air, dtype: object"
      ]
     },
     "execution_count": 34,
     "metadata": {},
     "output_type": "execute_result"
    }
   ],
   "source": [
    "PP=P*molfrac\n",
    "PP"
   ]
  },
  {
   "cell_type": "code",
   "execution_count": 35,
   "metadata": {
    "collapsed": true
   },
   "outputs": [],
   "source": [
    "Names=[names[n].split(\"_\")[1] for n in range(5)]"
   ]
  },
  {
   "cell_type": "code",
   "execution_count": 36,
   "metadata": {
    "collapsed": false
   },
   "outputs": [
    {
     "data": {
      "text/plain": [
       "['N2', 'CO2', 'CH4', 'O2', 'H2O']"
      ]
     },
     "execution_count": 36,
     "metadata": {},
     "output_type": "execute_result"
    }
   ],
   "source": [
    "Names"
   ]
  },
  {
   "cell_type": "code",
   "execution_count": 46,
   "metadata": {
    "collapsed": false
   },
   "outputs": [],
   "source": [
    "zz=dict_compounds[Names[0]].Z(T,PP[0])\n",
    "zz\n",
    "Z=[zz]"
   ]
  },
  {
   "cell_type": "code",
   "execution_count": 48,
   "metadata": {
    "collapsed": false
   },
   "outputs": [],
   "source": [
    "def get_enthalpy(stream):\n",
    "    ncomps = stream.loc[\"Ncomps\"]\n",
    "    molflows = stream.iloc[3:3+ncomps]\n",
    "    T = stream.loc[\"T\"]\n",
    "    P = stream.loc[\"P\"]\n",
    "    molfracs = stream.iloc[3+ncomps:3+2*ncomps]\n",
    "    PP = P*molfracs\n",
    "    names = [name.split(\"_\")[1] for name in molflows.index]\n",
    "    ind = 0 if stream[\"isLiq\"] else 1\n",
    "    Z = []\n",
    "    for i in xrange(ncomps):\n",
    "        comp = dict_compounds[names[i]]\n",
    "        zz = comp.Z(T, PP[i])\n",
    "        if len(zz) == 2:\n",
    "            Z.append(zz[ind])\n",
    "        else:\n",
    "            Z.append(zz[0])\n",
    "    molarH = scipy.array([dict_compounds[names[i]].H(T, PP[i], Z[i]) for i in xrange(ncomps)])\n",
    "    H = (molflows*molarH).sum()\n",
    "    stream.loc[\"Enthalpy\"] = H\n",
    "    return stream"
   ]
  },
  {
   "cell_type": "code",
   "execution_count": 49,
   "metadata": {
    "collapsed": true
   },
   "outputs": [],
   "source": [
    "if __name__ == \"__main__\":\n",
    "    df = df.apply(get_enthalpy)\n",
    "    df"
   ]
  },
  {
   "cell_type": "code",
   "execution_count": 50,
   "metadata": {
    "collapsed": false
   },
   "outputs": [
    {
     "data": {
      "text/html": [
       "<div>\n",
       "<table border=\"1\" class=\"dataframe\">\n",
       "  <thead>\n",
       "    <tr style=\"text-align: right;\">\n",
       "      <th></th>\n",
       "      <th>Air</th>\n",
       "      <th>Fuel</th>\n",
       "    </tr>\n",
       "  </thead>\n",
       "  <tbody>\n",
       "    <tr>\n",
       "      <th>T</th>\n",
       "      <td>300</td>\n",
       "      <td>300</td>\n",
       "    </tr>\n",
       "    <tr>\n",
       "      <th>P</th>\n",
       "      <td>101300</td>\n",
       "      <td>101300</td>\n",
       "    </tr>\n",
       "    <tr>\n",
       "      <th>isLiq</th>\n",
       "      <td>False</td>\n",
       "      <td>False</td>\n",
       "    </tr>\n",
       "    <tr>\n",
       "      <th>MolarFlow_N2</th>\n",
       "      <td>11.28571</td>\n",
       "      <td>0</td>\n",
       "    </tr>\n",
       "    <tr>\n",
       "      <th>MolarFlow_CO2</th>\n",
       "      <td>0</td>\n",
       "      <td>0</td>\n",
       "    </tr>\n",
       "    <tr>\n",
       "      <th>MolarFlow_CH4</th>\n",
       "      <td>0</td>\n",
       "      <td>1</td>\n",
       "    </tr>\n",
       "    <tr>\n",
       "      <th>MolarFlow_O2</th>\n",
       "      <td>3</td>\n",
       "      <td>0</td>\n",
       "    </tr>\n",
       "    <tr>\n",
       "      <th>MolarFlow_H2O</th>\n",
       "      <td>0</td>\n",
       "      <td>0</td>\n",
       "    </tr>\n",
       "    <tr>\n",
       "      <th>MolFr_N2</th>\n",
       "      <td>0.79</td>\n",
       "      <td>0</td>\n",
       "    </tr>\n",
       "    <tr>\n",
       "      <th>MolFr_CO2</th>\n",
       "      <td>0</td>\n",
       "      <td>0</td>\n",
       "    </tr>\n",
       "    <tr>\n",
       "      <th>MolFr_CH4</th>\n",
       "      <td>0</td>\n",
       "      <td>1</td>\n",
       "    </tr>\n",
       "    <tr>\n",
       "      <th>MolFr_O2</th>\n",
       "      <td>0.21</td>\n",
       "      <td>0</td>\n",
       "    </tr>\n",
       "    <tr>\n",
       "      <th>MolFr_H2O</th>\n",
       "      <td>0</td>\n",
       "      <td>0</td>\n",
       "    </tr>\n",
       "    <tr>\n",
       "      <th>TotMolFlow</th>\n",
       "      <td>14.28571</td>\n",
       "      <td>1</td>\n",
       "    </tr>\n",
       "    <tr>\n",
       "      <th>TotMassFlow</th>\n",
       "      <td>412.155</td>\n",
       "      <td>16.043</td>\n",
       "    </tr>\n",
       "    <tr>\n",
       "      <th>Enthalpy</th>\n",
       "      <td>696392.2</td>\n",
       "      <td>-7.447216e+07</td>\n",
       "    </tr>\n",
       "    <tr>\n",
       "      <th>Entropy</th>\n",
       "      <td>NaN</td>\n",
       "      <td>NaN</td>\n",
       "    </tr>\n",
       "    <tr>\n",
       "      <th>Ncomps</th>\n",
       "      <td>5</td>\n",
       "      <td>5</td>\n",
       "    </tr>\n",
       "  </tbody>\n",
       "</table>\n",
       "</div>"
      ],
      "text/plain": [
       "                    Air          Fuel\n",
       "T                   300           300\n",
       "P                101300        101300\n",
       "isLiq             False         False\n",
       "MolarFlow_N2   11.28571             0\n",
       "MolarFlow_CO2         0             0\n",
       "MolarFlow_CH4         0             1\n",
       "MolarFlow_O2          3             0\n",
       "MolarFlow_H2O         0             0\n",
       "MolFr_N2           0.79             0\n",
       "MolFr_CO2             0             0\n",
       "MolFr_CH4             0             1\n",
       "MolFr_O2           0.21             0\n",
       "MolFr_H2O             0             0\n",
       "TotMolFlow     14.28571             1\n",
       "TotMassFlow     412.155        16.043\n",
       "Enthalpy       696392.2 -7.447216e+07\n",
       "Entropy             NaN           NaN\n",
       "Ncomps                5             5"
      ]
     },
     "execution_count": 50,
     "metadata": {},
     "output_type": "execute_result"
    }
   ],
   "source": [
    "df"
   ]
  },
  {
   "cell_type": "code",
   "execution_count": null,
   "metadata": {
    "collapsed": true
   },
   "outputs": [],
   "source": []
  }
 ],
 "metadata": {
  "kernelspec": {
   "display_name": "Python 2",
   "language": "python",
   "name": "python2"
  },
  "language_info": {
   "codemirror_mode": {
    "name": "ipython",
    "version": 2
   },
   "file_extension": ".py",
   "mimetype": "text/x-python",
   "name": "python",
   "nbconvert_exporter": "python",
   "pygments_lexer": "ipython2",
   "version": "2.7.10"
  }
 },
 "nbformat": 4,
 "nbformat_minor": 0
}
