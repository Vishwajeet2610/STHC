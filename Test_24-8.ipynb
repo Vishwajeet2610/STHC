{
 "cells": [
  {
   "cell_type": "code",
   "execution_count": null,
   "metadata": {
    "collapsed": true
   },
   "outputs": [],
   "source": [
    "import pandas as pd\n",
    "import scipy\n",
    "from eosHSG import getCompound\n",
    "\n",
    "#Lets use 4 compounds: Benzene, Propene, Cumene, DIP Benzene\n",
    "typeeos = 'pr'\n",
    "benzene = getCompound(\"Benzene\", typeeos)\n",
    "propene = getCompound(\"Propene\", typeeos)\n",
    "cumene = getCompound(\"Isopropylbenzene\", typeeos)\n",
    "dipbenzene = getCompound(\"diisopropylbenzene\",typeeos)\n",
    "dict_compounds = {\"C6H6\": benzene,\n",
    "                 \"N2\":nitrogen,\n",
    "                 \"O2\":oxygen,\n",
    "                 \"CO2\":carbondioxide,\n",
    "                 \"H2O\":water}  \n",
    "#dict_compounds gives us access to all the properties of each compound"
   ]
  }
 ],
 "metadata": {
  "kernelspec": {
   "display_name": "Python 2",
   "language": "python",
   "name": "python2"
  },
  "language_info": {
   "codemirror_mode": {
    "name": "ipython",
    "version": 2
   },
   "file_extension": ".py",
   "mimetype": "text/x-python",
   "name": "python",
   "nbconvert_exporter": "python",
   "pygments_lexer": "ipython2",
   "version": "2.7.10"
  }
 },
 "nbformat": 4,
 "nbformat_minor": 0
}
